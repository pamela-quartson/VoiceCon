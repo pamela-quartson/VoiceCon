{
  "nbformat": 4,
  "nbformat_minor": 0,
  "metadata": {
    "colab": {
      "name": "Untitled0.ipynb",
      "provenance": [],
      "collapsed_sections": [],
      "toc_visible": true,
      "authorship_tag": "ABX9TyOu2L0iIveQHXym3J3XMHfz",
      "include_colab_link": true
    },
    "kernelspec": {
      "name": "python3",
      "display_name": "Python 3"
    }
  },
  "cells": [
    {
      "cell_type": "markdown",
      "metadata": {
        "id": "view-in-github",
        "colab_type": "text"
      },
      "source": [
        "<a href=\"https://colab.research.google.com/github/willakuffo/VoiceCon/blob/master/vcon.ipynb\" target=\"_parent\"><img src=\"https://colab.research.google.com/assets/colab-badge.svg\" alt=\"Open In Colab\"/></a>"
      ]
    },
    {
      "cell_type": "code",
      "metadata": {
        "id": "ttQrdm5q5xK4",
        "colab_type": "code",
        "colab": {}
      },
      "source": [
        "from keras.wrappers.scikit_learn import KerasClassifier\n",
        "from sklearn.model_selection import GridSearchCV\n",
        "from keras.models import Sequential\n",
        "from keras.layers.core import Dense\n",
        "import numpy\n",
        "import pickle\n",
        "from sklearn.preprocessing import MinMaxScaler\n",
        "from sklearn.preprocessing import LabelEncoder\n",
        "from keras.utils import np_utils"
      ],
      "execution_count": 0,
      "outputs": []
    },
    {
      "cell_type": "code",
      "metadata": {
        "id": "YGNM70Ti6lBw",
        "colab_type": "code",
        "outputId": "bb6ac872-72c9-46fd-cd35-f330002d2413",
        "colab": {
          "base_uri": "https://localhost:8080/",
          "height": 70
        }
      },
      "source": [
        "import sister\n",
        "embedder = sister.MeanEmbedding(lang = 'en')\n"
      ],
      "execution_count": 0,
      "outputs": [
        {
          "output_type": "stream",
          "text": [
            "Downloading from https://dl.fbaipublicfiles.com/fasttext/vectors-wiki/wiki.simple.zip...\n"
          ],
          "name": "stderr"
        },
        {
          "output_type": "stream",
          "text": [
            "Loading model...\n"
          ],
          "name": "stdout"
        },
        {
          "output_type": "stream",
          "text": [
            "\n"
          ],
          "name": "stderr"
        }
      ]
    },
    {
      "cell_type": "code",
      "metadata": {
        "id": "m6wCwCEu6lOT",
        "colab_type": "code",
        "colab": {}
      },
      "source": [
        "with open ('voiceConData.pickle','rb') as D:\n",
        "  data = pickle.load(D)"
      ],
      "execution_count": 0,
      "outputs": []
    },
    {
      "cell_type": "code",
      "metadata": {
        "id": "NSJO_0i16lTf",
        "colab_type": "code",
        "outputId": "93d6daf2-7d7e-4c49-b32e-aadc778231f2",
        "colab": {
          "base_uri": "https://localhost:8080/",
          "height": 230
        }
      },
      "source": [
        "data.columns = list(range(data.shape[1]))\n",
        "data.index = list(range(data.shape[0]))\n",
        "train_samples = data[list(range(0,data.shape[1]-1))]\n",
        "train_labels = data[300]\n",
        "\n"
      ],
      "execution_count": 0,
      "outputs": [
        {
          "output_type": "execute_result",
          "data": {
            "text/plain": [
              "0        door_pv\n",
              "1      lights_nv\n",
              "2        door_nv\n",
              "3      garage_pv\n",
              "4       water_pv\n",
              "         ...    \n",
              "131    garage_nv\n",
              "132    garage_nv\n",
              "133      door_pv\n",
              "134    lights_pv\n",
              "135      door_nv\n",
              "Name: 300, Length: 136, dtype: object"
            ]
          },
          "metadata": {
            "tags": []
          },
          "execution_count": 47
        }
      ]
    },
    {
      "cell_type": "code",
      "metadata": {
        "id": "JHI16X5s_Iqf",
        "colab_type": "code",
        "colab": {}
      },
      "source": [
        "#label encoding\n",
        "encoder = LabelEncoder()\n",
        "encoded = encoder.fit_transform(train_labels)\n",
        "LABELS =  np_utils.to_categorical(encoded)\n"
      ],
      "execution_count": 0,
      "outputs": []
    },
    {
      "cell_type": "code",
      "metadata": {
        "id": "jyGoXLZU_K9j",
        "colab_type": "code",
        "outputId": "d5902001-a219-44ac-b482-38f235483e1b",
        "colab": {
          "base_uri": "https://localhost:8080/",
          "height": 34
        }
      },
      "source": [
        "#normalize\n",
        "sc = MinMaxScaler()\n",
        "train_data = sc.fit_transform(train_samples)"
      ],
      "execution_count": 0,
      "outputs": [
        {
          "output_type": "execute_result",
          "data": {
            "text/plain": [
              "(136, 300)"
            ]
          },
          "metadata": {
            "tags": []
          },
          "execution_count": 55
        }
      ]
    },
    {
      "cell_type": "code",
      "metadata": {
        "id": "I2ylP_WY6lZ_",
        "colab_type": "code",
        "outputId": "9c19fa44-8425-4661-dfc4-2a79ddbce4a4",
        "colab": {
          "base_uri": "https://localhost:8080/",
          "height": 1000
        }
      },
      "source": [
        "def classifier(train_data,labels):\n",
        "  model = Sequential()\n",
        "  model.add(Dense(units = train_data.shape[1],input_dim = train_data.shape[1],activation='relu'))\n",
        "  model.add(Dense(units = 512,activation = 'relu'))\n",
        "  model.add(Dense(units = 1024,activation = 'relu'))\n",
        "  model.add(Dense(units = 512,activation = 'relu'))\n",
        "  model.add(Dense(units = 256,activation = 'relu'))\n",
        "  model.add(Dense(units = 64,activation = 'relu'))\n",
        "  model.add(Dense(units = labels.shape[1],activation = 'softmax'))\n",
        "  return model\n",
        "\n",
        "model = classifier(train_data,LABELS) \n",
        "#model.summary ()  \n",
        "model.compile(optimizer = 'adam',loss = 'categorical_crossentropy',metrics = ['accuracy'])\n",
        "history = model.fit(x = train_data,y = LABELS,validation_split= 0.1,epochs = 20,steps_per_epoch=10,validation_steps=1)\n"
      ],
      "execution_count": 0,
      "outputs": [
        {
          "output_type": "stream",
          "text": [
            "WARNING:tensorflow:From /usr/local/lib/python3.6/dist-packages/tensorflow_core/python/ops/math_grad.py:1424: where (from tensorflow.python.ops.array_ops) is deprecated and will be removed in a future version.\n",
            "Instructions for updating:\n",
            "Use tf.where in 2.0, which has the same broadcast rule as np.where\n",
            "WARNING:tensorflow:From /usr/local/lib/python3.6/dist-packages/keras/backend/tensorflow_backend.py:1033: The name tf.assign_add is deprecated. Please use tf.compat.v1.assign_add instead.\n",
            "\n",
            "WARNING:tensorflow:From /usr/local/lib/python3.6/dist-packages/keras/backend/tensorflow_backend.py:1020: The name tf.assign is deprecated. Please use tf.compat.v1.assign instead.\n",
            "\n",
            "WARNING:tensorflow:From /usr/local/lib/python3.6/dist-packages/keras/backend/tensorflow_backend.py:3005: The name tf.Session is deprecated. Please use tf.compat.v1.Session instead.\n",
            "\n",
            "Train on 122 samples, validate on 14 samples\n",
            "Epoch 1/20\n",
            "WARNING:tensorflow:From /usr/local/lib/python3.6/dist-packages/keras/backend/tensorflow_backend.py:190: The name tf.get_default_session is deprecated. Please use tf.compat.v1.get_default_session instead.\n",
            "\n",
            "WARNING:tensorflow:From /usr/local/lib/python3.6/dist-packages/keras/backend/tensorflow_backend.py:197: The name tf.ConfigProto is deprecated. Please use tf.compat.v1.ConfigProto instead.\n",
            "\n",
            "WARNING:tensorflow:From /usr/local/lib/python3.6/dist-packages/keras/backend/tensorflow_backend.py:207: The name tf.global_variables is deprecated. Please use tf.compat.v1.global_variables instead.\n",
            "\n",
            "WARNING:tensorflow:From /usr/local/lib/python3.6/dist-packages/keras/backend/tensorflow_backend.py:216: The name tf.is_variable_initialized is deprecated. Please use tf.compat.v1.is_variable_initialized instead.\n",
            "\n",
            "WARNING:tensorflow:From /usr/local/lib/python3.6/dist-packages/keras/backend/tensorflow_backend.py:223: The name tf.variables_initializer is deprecated. Please use tf.compat.v1.variables_initializer instead.\n",
            "\n",
            "10/10 [==============================] - 2s 174ms/step - loss: 1.4456 - acc: 0.4303 - val_loss: 0.8054 - val_acc: 0.7857\n",
            "Epoch 2/20\n",
            "10/10 [==============================] - 0s 42ms/step - loss: 0.3950 - acc: 0.8885 - val_loss: 0.1073 - val_acc: 1.0000\n",
            "Epoch 3/20\n",
            "10/10 [==============================] - 0s 43ms/step - loss: 0.0845 - acc: 0.9762 - val_loss: 0.0453 - val_acc: 1.0000\n",
            "Epoch 4/20\n",
            "10/10 [==============================] - 0s 43ms/step - loss: 0.0231 - acc: 0.9918 - val_loss: 0.0712 - val_acc: 1.0000\n",
            "Epoch 5/20\n",
            "10/10 [==============================] - 0s 41ms/step - loss: 0.0132 - acc: 0.9918 - val_loss: 0.0762 - val_acc: 0.9286\n",
            "Epoch 6/20\n",
            "10/10 [==============================] - 0s 42ms/step - loss: 0.0126 - acc: 0.9918 - val_loss: 0.0344 - val_acc: 1.0000\n",
            "Epoch 7/20\n",
            "10/10 [==============================] - 0s 42ms/step - loss: 0.0125 - acc: 0.9918 - val_loss: 0.0153 - val_acc: 1.0000\n",
            "Epoch 8/20\n",
            "10/10 [==============================] - 0s 41ms/step - loss: 0.0124 - acc: 0.9918 - val_loss: 0.0265 - val_acc: 1.0000\n",
            "Epoch 9/20\n",
            "10/10 [==============================] - 0s 42ms/step - loss: 0.0122 - acc: 0.9918 - val_loss: 0.0179 - val_acc: 1.0000\n",
            "Epoch 10/20\n",
            "10/10 [==============================] - 0s 42ms/step - loss: 0.0119 - acc: 0.9918 - val_loss: 0.0213 - val_acc: 1.0000\n",
            "Epoch 11/20\n",
            "10/10 [==============================] - 0s 40ms/step - loss: 0.0124 - acc: 0.9918 - val_loss: 0.0238 - val_acc: 1.0000\n",
            "Epoch 12/20\n",
            "10/10 [==============================] - 0s 42ms/step - loss: 0.0117 - acc: 0.9918 - val_loss: 0.0239 - val_acc: 1.0000\n",
            "Epoch 13/20\n",
            "10/10 [==============================] - 0s 42ms/step - loss: 0.0128 - acc: 0.9918 - val_loss: 0.0133 - val_acc: 1.0000\n",
            "Epoch 14/20\n",
            "10/10 [==============================] - 0s 42ms/step - loss: 0.0124 - acc: 0.9918 - val_loss: 0.0287 - val_acc: 1.0000\n",
            "Epoch 15/20\n",
            "10/10 [==============================] - 0s 41ms/step - loss: 0.0120 - acc: 0.9918 - val_loss: 0.0159 - val_acc: 1.0000\n",
            "Epoch 16/20\n",
            "10/10 [==============================] - 0s 41ms/step - loss: 0.0117 - acc: 0.9918 - val_loss: 0.0200 - val_acc: 1.0000\n",
            "Epoch 17/20\n",
            "10/10 [==============================] - 0s 41ms/step - loss: 0.0124 - acc: 0.9918 - val_loss: 0.0176 - val_acc: 1.0000\n",
            "Epoch 18/20\n",
            "10/10 [==============================] - 0s 42ms/step - loss: 0.0122 - acc: 0.9918 - val_loss: 0.0143 - val_acc: 1.0000\n",
            "Epoch 19/20\n",
            "10/10 [==============================] - 0s 42ms/step - loss: 0.0116 - acc: 0.9918 - val_loss: 0.0180 - val_acc: 1.0000\n",
            "Epoch 20/20\n",
            "10/10 [==============================] - 0s 42ms/step - loss: 0.0125 - acc: 0.9918 - val_loss: 0.0222 - val_acc: 1.0000\n"
          ],
          "name": "stdout"
        }
      ]
    },
    {
      "cell_type": "code",
      "metadata": {
        "id": "V8RPDr8b6lgE",
        "colab_type": "code",
        "colab": {}
      },
      "source": [
        "model.save('vcnet.hdf5')"
      ],
      "execution_count": 0,
      "outputs": []
    },
    {
      "cell_type": "code",
      "metadata": {
        "id": "WBasf8XI6ll0",
        "colab_type": "code",
        "outputId": "5e189076-9e84-4867-9f87-2f7a6f7f05e4",
        "colab": {
          "base_uri": "https://localhost:8080/",
          "height": 70
        }
      },
      "source": [
        "from keras.models import load_model\n",
        "model = load_model('vcnet.hdf5')\n",
        "\n",
        "#making labe matches\n",
        "with open('prediction_matches.pickle','rb') as P:\n",
        "            matcher = pickle.load(P)\n",
        "\n",
        "\n",
        "def tell(to_predict):\n",
        "        embedded = embedder(to_predict)\n",
        "        embedded = embedded.reshape(-1,1) # reshape for scaling\n",
        "        sc = MinMaxScaler()\n",
        "        embedded = sc.fit_transform(embedded)\n",
        "        embedded = embedded.reshape(1,-1) #reshape for one sample and prediction\n",
        "        prob,p_class = model.predict(embedded),model.predict_classes(embedded)\n",
        "        return prob,matcher[p_class[0]],model.predict_classes(embedded)\n",
        "\n",
        "tell('turn off the water')"
      ],
      "execution_count": 0,
      "outputs": [
        {
          "output_type": "execute_result",
          "data": {
            "text/plain": [
              "(array([[1.3721398e-02, 1.1454125e-02, 2.6081031e-04, 5.7684803e-05,\n",
              "         4.4938195e-01, 3.7605658e-03, 4.7391167e-01, 4.7451813e-02]],\n",
              "       dtype=float32), 'water_nv', array([6]))"
            ]
          },
          "metadata": {
            "tags": []
          },
          "execution_count": 80
        }
      ]
    },
    {
      "cell_type": "code",
      "metadata": {
        "id": "CUzK1azI6llL",
        "colab_type": "code",
        "colab": {}
      },
      "source": [
        ""
      ],
      "execution_count": 0,
      "outputs": []
    },
    {
      "cell_type": "code",
      "metadata": {
        "id": "UEUF2olA6lfV",
        "colab_type": "code",
        "colab": {}
      },
      "source": [
        ""
      ],
      "execution_count": 0,
      "outputs": []
    },
    {
      "cell_type": "code",
      "metadata": {
        "id": "CyDIMQxJ6lZc",
        "colab_type": "code",
        "colab": {}
      },
      "source": [
        ""
      ],
      "execution_count": 0,
      "outputs": []
    },
    {
      "cell_type": "code",
      "metadata": {
        "id": "_ty3tMmp6lS6",
        "colab_type": "code",
        "colab": {}
      },
      "source": [
        ""
      ],
      "execution_count": 0,
      "outputs": []
    },
    {
      "cell_type": "code",
      "metadata": {
        "id": "bNhRJ25u6lNr",
        "colab_type": "code",
        "colab": {}
      },
      "source": [
        ""
      ],
      "execution_count": 0,
      "outputs": []
    }
  ]
}